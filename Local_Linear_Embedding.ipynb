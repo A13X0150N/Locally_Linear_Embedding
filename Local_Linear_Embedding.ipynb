{
 "cells": [
  {
   "cell_type": "code",
   "execution_count": 15,
   "metadata": {},
   "outputs": [],
   "source": [
    "import gzip\n",
    "import matplotlib.pyplot as plt\n",
    "%matplotlib inline\n",
    "import numpy as np\n",
    "import scipy as sp\n",
    "from sklearn import manifold\n",
    "from sklearn import neighbors\n",
    "import struct"
   ]
  },
  {
   "cell_type": "code",
   "execution_count": 16,
   "metadata": {},
   "outputs": [],
   "source": [
    "# Parse data from zipped mnist files into numpy arrays\n",
    "# Modified from source: https://gist.github.com/tylerneylon/ce60e8a06e7506ac45788443f7269e40\n",
    "#\n",
    "# Input:  filename --> Zipped file to parse\n",
    "#\n",
    "# Output: return   --> Numpy array of unint8 data points\n",
    "#\n",
    "def read_idx(filename):\n",
    "    with gzip.open(filename) as f:\n",
    "        zero, data_type, dims = struct.unpack('>HBB', f.read(4))\n",
    "        shape = tuple(struct.unpack('>I', f.read(4))[0] for d in range(dims))\n",
    "        return np.frombuffer(f.read(), dtype=np.uint8).reshape(shape)"
   ]
  },
  {
   "cell_type": "code",
   "execution_count": 17,
   "metadata": {},
   "outputs": [],
   "source": [
    "# Construct an nxm matrix of evenly distributed samples from an input sample set\n",
    "#\n",
    "# Inputs: Y    --> Sample matrix\n",
    "#         n, m --> Landmark matrix dimensions\n",
    "#\n",
    "# Output: idx  --> nxm Landmark matrix\n",
    "#\n",
    "def find_landmarks(Y, n, m):\n",
    "    xr = np.linspace(np.min(Y[:,0]), np.max(Y[:,0]), n)\n",
    "    yr = np.linspace(np.min(Y[:,1]), np.max(Y[:,1]), m)\n",
    "    xg, yg = np.meshgrid(xr, yr)\n",
    "    idx = [0]*(n*m)\n",
    "    for i, x, y in zip(range(n*m), xg.flatten(), yg.flatten()):\n",
    "        idx[i] = int(np.sum(np.abs(Y-np.array([x,y]))**2, axis=-1).argmin())\n",
    "    return idx"
   ]
  },
  {
   "cell_type": "code",
   "execution_count": 1,
   "metadata": {},
   "outputs": [],
   "source": [
    "# X --> the basis vector\n",
    "# E --> eta is the matrix of nearest neighbors\n",
    "# iterate theough the nearest neighbors and compute the  \n",
    "def calc_covariance(X, E):\n",
    "    K = np.shape(E)[1]      # set K to iterate through each of the nearest neighbors\n",
    "    C = np.zeros([K,K])     # set C as the KxK covariance matrix\n",
    "    # center the data\n",
    "    for k in range(K):\n",
    "        E[k] = X - E[k]\n",
    "\n",
    "    # Compute the local covariance matrix\n",
    "    C = np.cov(E)\n",
    "\n",
    "    print(\"Local covariance matrix for X=\", X)\n",
    "    print(C)\n",
    "\n",
    "    return C\n"
   ]
  },
  {
   "cell_type": "code",
   "execution_count": 3,
   "metadata": {},
   "outputs": [
    {
     "ename": "SyntaxError",
     "evalue": "invalid syntax (<ipython-input-3-49407cc6af7a>, line 40)",
     "output_type": "error",
     "traceback": [
      "\u001b[1;36m  File \u001b[1;32m\"<ipython-input-3-49407cc6af7a>\"\u001b[1;36m, line \u001b[1;32m40\u001b[0m\n\u001b[1;33m    if ()\u001b[0m\n\u001b[1;37m         ^\u001b[0m\n\u001b[1;31mSyntaxError\u001b[0m\u001b[1;31m:\u001b[0m invalid syntax\n"
     ]
    }
   ],
   "source": [
    "# Construct a weighted matrix that recreates X from its nearest neighbors\n",
    "#\n",
    "# Inputs: X    --> Input matrix\n",
    "#         tree --> nearest neighbors tree\n",
    "#         k    --> number of nearest neighbors  \n",
    "#         W    --> the weight matrix\n",
    "# Reconstruction errors measured by the cost function of the distances of every Xj for an Xi with weights applied to Xj\n",
    "# Minimize the const function subject to two constraints:\n",
    "# 1. Each data point Xi is reconstructed from its nearest neighbors only --> Wij = 0 if X Xj not in the set of nearest neighbors\n",
    "# 2. Rows of the weight matrix sum to one\n",
    "#\n",
    "def construct_weight_matrix(X, tree, k):\n",
    "    # Setup matrices and variables\n",
    "    D = np.shape(X)[0]             # get the dimension of X\n",
    "    print(\"X: \", np.shape(X))\n",
    "    print(\"D: \", D)\n",
    "\n",
    "    # Build a matrix of the K nearest neighbors\n",
    "    dist, ind = tree.query(X[:1], k=n_neighbors)\n",
    "\n",
    "    E = np.zeros(D, k)      # empty array for nearest neighbors\n",
    "    for i in range(k):      # iterate through tree indices and get nearest neighbors\n",
    "        E[i] = ind[i]\n",
    "\n",
    "\n",
    "    # Compute local covariance matrix\n",
    "    C = calc_covariance(Xi, E)\n",
    "    print(\"C is :\", np.shape(C))\n",
    "    print(C)\n",
    "\n",
    "    # Solve linear system with constraint that rows of weights sum to one\n",
    "    b = np.ones(np.shape(C)[1])  # build solution matrix from dimension of C\n",
    "    W = np.linalg.solve(C, b)\n",
    "    \n",
    "    print(\"W is :\", np.shape(W))\n",
    "    print(W)\n",
    "    \n",
    "    # Apply second constraint if j is not a neighbor, set Wij = 0\n",
    "    )\n",
    "\n",
    "    return W\n"
   ]
  },
  {
   "cell_type": "code",
   "execution_count": null,
   "metadata": {},
   "outputs": [],
   "source": [
    "# Construct a weighted matrix that recreates X from its nearest neighbors\n",
    "#\n",
    "# Inputs: X    --> Input matrix is N x D --> 5851 x 784\n",
    "#         tree --> nearest neighbors tree\n",
    "#         k    --> number of nearest neighbors  \n",
    "# Reconstruction errors measured by the cost function of the distances of every Xj for an Xi with weights applied to Xj\n",
    "# Minimize the const function subject to two constraints:\n",
    "# 1. Each data point Xi is reconstructed from its nearest neighbors only --> Wij = 0 if X Xj not in the set of nearest neighbors\n",
    "# 2. Rows of the weight matrix sum to one\n",
    "#\n",
    "def construct_weight_matrix(X, tree, k):\n",
    "    # Compute the covariance matrix\n",
    "    C = np.zeros(np.shape(X))\n",
    "    print(\"X:\", np.shape(X))\n",
    "    print(\"hello\")\n",
    "    print(\"k = \", k)\n",
    "    # Compute local covariance matrix\n",
    "    #for r in range(np.shape(X)[1]):\n",
    "    #for c in range(np.shape(X)[1]):\n",
    "\n",
    "        #dist, ind = tree.query(X[c:], k)\n",
    "        # ind = indices of k=n_neighbors nearest neighbors\n",
    "        # dist = distances k=n_neighbors nearest neighbors\n",
    "        #print(\"X\",c)\n",
    "        #print(\"Nearest neighbor indices:\", ind)\n",
    "    \n",
    "    return        \n",
    "    \n"
   ]
  },
  {
   "cell_type": "code",
   "execution_count": 24,
   "metadata": {},
   "outputs": [],
   "source": [
    "# TODO - We only have to implement this function, swap it with the manifold one below\n",
    "# Seek a low-rank projection on an input matrix\n",
    "#\n",
    "# Inputs: X            --> Input matrix to reduce\n",
    "#         n_neighbors  --> Maximum number of neighbors used for reconstruction\n",
    "#         n_components --> Maximum number of linearly independent components for reconstruction\n",
    "#\n",
    "# Output: Y            --> Reconstructed vectors in a lower rank\n",
    "#         err          --> (Optional implementation) Error margin of vectors\n",
    "#\n",
    "def locally_linear_embedding(X, n_neighbors, n_components):\n",
    "    \n",
    "    # Step 1: Find the nearest neighbors at for each sample\n",
    "    tree = neighbors.BallTree(X, leaf_size=n_components)\n",
    "    dist, ind = tree.query(X[:1], k=n_neighbors)\n",
    "    # ind = indices of k=n_neighbors nearest neighbors\n",
    "    # dist = distances k=n_neighbors nearest neighbors\n",
    "\n",
    "    # Step 2: Construct a weighted matrix that recreates X from its neighbors\n",
    "    W = construct_weight_matrix(X, tree, n_neighbors)\n",
    "    \n",
    "    # Step 3: Compute vectors that are reconstructed by weights\n",
    "    \n",
    "    \n",
    "    Y = X[:,0:2]   # placeholder\n",
    "    err = 0.001    # placeholder\n",
    "    return Y, err"
   ]
  },
  {
   "cell_type": "code",
   "execution_count": 25,
   "metadata": {},
   "outputs": [],
   "source": [
    "# Extract mnist data from files\n",
    "raw_train = read_idx(\"train-images-idx3-ubyte.gz\")\n",
    "train_data = np.reshape(raw_train, (60000, 28*28))\n",
    "train_label = read_idx(\"train-labels-idx1-ubyte.gz\")"
   ]
  },
  {
   "cell_type": "code",
   "execution_count": null,
   "metadata": {
    "scrolled": false
   },
   "outputs": [],
   "source": [
    "# Train algorithm and calculate landmark graph\n",
    "X = train_data[train_label == 8]\n",
    "#Y, err = manifold.locally_linear_embedding(X, n_neighbors=10, n_components=2)\n",
    "Y, err = locally_linear_embedding(X, n_neighbors=10, n_components=2)\n",
    "landmarks = find_landmarks(Y, 5, 5)"
   ]
  },
  {
   "cell_type": "code",
   "execution_count": 22,
   "metadata": {},
   "outputs": [
    {
     "data": {
      "image/png": "[encoded data removed]",
      "text/plain": [
       "<Figure size 432x288 with 1 Axes>"
      ]
     },
     "metadata": {
      "needs_background": "light"
     },
     "output_type": "display_data"
    },
    {
     "data": {
      "image/png": "[encoded data removed]",
      "text/plain": [
       "<Figure size 1080x1080 with 25 Axes>"
      ]
     },
     "metadata": {
      "needs_background": "light"
     },
     "output_type": "display_data"
    }
   ],
   "source": [
    "# Plot the clustered data with landmarks overlaid\n",
    "plt.scatter(Y[:,0], Y[:,1])\n",
    "plt.scatter(Y[landmarks,0], Y[landmarks,1])\n",
    "\n",
    "# Show the landmark samples in a 5x5 grid\n",
    "fig = plt.figure(figsize=(15,15))\n",
    "for i in range(len(landmarks)):\n",
    "    ax = fig.add_subplot(5, 5, i+1)\n",
    "    imgplot = ax.imshow(np.reshape(X[landmarks[i]], (28,28)), cmap=plt.cm.get_cmap(\"Greys\"))\n",
    "    imgplot.set_interpolation(\"nearest\")\n",
    "plt.show()"
   ]
  },
  {
   "cell_type": "code",
   "execution_count": null,
   "metadata": {},
   "outputs": [],
   "source": []
  },
  {
   "cell_type": "code",
   "execution_count": null,
   "metadata": {},
   "outputs": [],
   "source": []
  },
  {
   "cell_type": "code",
   "execution_count": null,
   "metadata": {},
   "outputs": [],
   "source": []
  }
 ],
 "metadata": {
  "kernelspec": {
   "display_name": "Python 3",
   "language": "python",
   "name": "python3"
  },
  "language_info": {
   "codemirror_mode": {
    "name": "ipython",
    "version": 3
   },
   "file_extension": ".py",
   "mimetype": "text/x-python",
   "name": "python",
   "nbconvert_exporter": "python",
   "pygments_lexer": "ipython3",
   "version": "3.7.3"
  }
 },
 "nbformat": 4,
 "nbformat_minor": 2
}
